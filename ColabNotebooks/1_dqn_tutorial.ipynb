{
 "cells": [
  {
   "cell_type": "markdown",
   "metadata": {
    "id": "klGNgWREsvQv"
   },
   "source": [
    "##### Copyright 2021 The TF-Agents Authors."
   ]
  },
  {
   "cell_type": "code",
   "execution_count": 1,
   "metadata": {
    "cellView": "form",
    "execution": {
     "iopub.execute_input": "2021-06-09T12:08:01.454344Z",
     "iopub.status.busy": "2021-06-09T12:08:01.453803Z",
     "iopub.status.idle": "2021-06-09T12:08:01.456292Z",
     "shell.execute_reply": "2021-06-09T12:08:01.455829Z"
    },
    "id": "nQnmcm0oI1Q-"
   },
   "outputs": [],
   "source": [
    "#@title Licensed under the Apache License, Version 2.0 (the \"License\");\n",
    "# you may not use this file except in compliance with the License.\n",
    "# You may obtain a copy of the License at\n",
    "#\n",
    "# https://www.apache.org/licenses/LICENSE-2.0\n",
    "#\n",
    "# Unless required by applicable law or agreed to in writing, software\n",
    "# distributed under the License is distributed on an \"AS IS\" BASIS,\n",
    "# WITHOUT WARRANTIES OR CONDITIONS OF ANY KIND, either express or implied.\n",
    "# See the License for the specific language governing permissions and\n",
    "# limitations under the License."
   ]
  },
  {
   "cell_type": "markdown",
   "metadata": {
    "id": "pmDI-h7cI0tI"
   },
   "source": [
    "# Train a Deep Q Network with TF-Agents\n",
    "\n",
    "<table class=\"tfo-notebook-buttons\" align=\"left\">\n",
    "  <td>\n",
    "    <a target=\"_blank\" href=\"https://www.tensorflow.org/agents/tutorials/1_dqn_tutorial\">\n",
    "    <img src=\"https://www.tensorflow.org/images/tf_logo_32px.png\" />\n",
    "    View on TensorFlow.org</a>\n",
    "  </td>\n",
    "  <td>\n",
    "    <a target=\"_blank\" href=\"https://colab.research.google.com/github/tensorflow/agents/blob/master/docs/tutorials/1_dqn_tutorial.ipynb\">\n",
    "    <img src=\"https://www.tensorflow.org/images/colab_logo_32px.png\" />\n",
    "    Run in Google Colab</a>\n",
    "  </td>\n",
    "  <td>\n",
    "    <a target=\"_blank\" href=\"https://github.com/tensorflow/agents/blob/master/docs/tutorials/1_dqn_tutorial.ipynb\">\n",
    "    <img src=\"https://www.tensorflow.org/images/GitHub-Mark-32px.png\" />\n",
    "    View source on GitHub</a>\n",
    "  </td>\n",
    "  <td>\n",
    "    <a href=\"https://storage.googleapis.com/tensorflow_docs/agents/docs/tutorials/1_dqn_tutorial.ipynb\"><img src=\"https://www.tensorflow.org/images/download_logo_32px.png\" />Download notebook</a>\n",
    "  </td>\n",
    "</table>"
   ]
  },
  {
   "cell_type": "markdown",
   "metadata": {
    "id": "lsaQlK8fFQqH"
   },
   "source": [
    "## Introduction\n"
   ]
  },
  {
   "cell_type": "markdown",
   "metadata": {
    "id": "cKOCZlhUgXVK"
   },
   "source": [
    "This example shows how to train a [DQN (Deep Q Networks)](https://storage.googleapis.com/deepmind-media/dqn/DQNNaturePaper.pdf)  agent on the Cartpole environment using the TF-Agents library.\n",
    "\n",
    "![Cartpole environment](https://raw.githubusercontent.com/tensorflow/agents/master/docs/tutorials/images/cartpole.png)\n",
    "\n",
    "It will walk you through all the components in a Reinforcement Learning (RL) pipeline for training, evaluation and data collection.\n",
    "\n",
    "\n",
    "To run this code live, click the 'Run in Google Colab' link above.\n"
   ]
  },
  {
   "cell_type": "markdown",
   "metadata": {
    "id": "1u9QVVsShC9X"
   },
   "source": [
    "## Setup"
   ]
  },
  {
   "cell_type": "markdown",
   "metadata": {
    "id": "kNrNXKI7bINP"
   },
   "source": [
    "If you haven't installed the following dependencies, run:"
   ]
  },
  {
   "cell_type": "code",
   "execution_count": 2,
   "metadata": {
    "execution": {
     "iopub.execute_input": "2021-06-09T12:08:01.464785Z",
     "iopub.status.busy": "2021-06-09T12:08:01.464226Z",
     "iopub.status.idle": "2021-06-09T12:08:11.950927Z",
     "shell.execute_reply": "2021-06-09T12:08:11.951322Z"
    },
    "id": "KEHR2Ui-lo8O"
   },
   "outputs": [
    {
     "name": "stdout",
     "output_type": "stream",
     "text": [
      "\r",
      "0% [Working]\r",
      "            \r",
      "Hit:1 http://us-west1.gce.archive.ubuntu.com/ubuntu bionic InRelease\r\n",
      "\r",
      "0% [Connecting to security.ubuntu.com (91.189.91.39)] [Connected to packages.cl\r",
      "                                                                               \r",
      "Get:2 http://us-west1.gce.archive.ubuntu.com/ubuntu bionic-updates InRelease [88.7 kB]\r\n"
     ]
    },
    {
     "name": "stdout",
     "output_type": "stream",
     "text": [
      "\r",
      "                                                                               \r",
      "Get:3 http://us-west1.gce.archive.ubuntu.com/ubuntu bionic-backports InRelease [74.6 kB]\r\n",
      "\r",
      "0% [3 InRelease 74.6 kB/74.6 kB 100%] [Connecting to security.ubuntu.com (91.18\r",
      "0% [1 InRelease gpgv 242 kB] [Connecting to security.ubuntu.com (91.189.91.39)]\r",
      "                                                                               \r",
      "Hit:4 https://nvidia.github.io/libnvidia-container/stable/ubuntu18.04/amd64  InRelease\r\n",
      "\r",
      "0% [1 InRelease gpgv 242 kB] [Connecting to security.ubuntu.com (91.189.91.39)]\r",
      "                                                                               \r",
      "Ign:5 http://developer.download.nvidia.com/compute/machine-learning/repos/ubuntu1804/x86_64  InRelease\r\n",
      "\r",
      "0% [1 InRelease gpgv 242 kB] [Connecting to security.ubuntu.com (91.189.91.39)]\r",
      "                                                                               \r",
      "Hit:6 https://nvidia.github.io/nvidia-container-runtime/ubuntu18.04/amd64  InRelease\r\n",
      "\r",
      "0% [1 InRelease gpgv 242 kB] [Connecting to security.ubuntu.com (91.189.91.39)]\r",
      "                                                                               \r",
      "Hit:7 http://developer.download.nvidia.com/compute/machine-learning/repos/ubuntu1804/x86_64  Release\r\n",
      "\r",
      "0% [1 InRelease gpgv 242 kB] [Connecting to security.ubuntu.com (91.189.91.39)]"
     ]
    },
    {
     "name": "stdout",
     "output_type": "stream",
     "text": [
      "\r",
      "                                                                               \r",
      "Hit:8 https://nvidia.github.io/nvidia-docker/ubuntu18.04/amd64  InRelease\r\n",
      "\r",
      "0% [1 InRelease gpgv 242 kB] [Connecting to security.ubuntu.com (91.189.91.39)]\r",
      "0% [Connecting to security.ubuntu.com (91.189.91.39)] [Waiting for headers] [Wa\r",
      "0% [2 InRelease gpgv 88.7 kB] [Connecting to security.ubuntu.com (91.189.91.39)"
     ]
    },
    {
     "name": "stdout",
     "output_type": "stream",
     "text": [
      "\r",
      "0% [Connecting to security.ubuntu.com (91.189.91.39)] [Waiting for headers] [Wa\r",
      "0% [3 InRelease gpgv 74.6 kB] [Connecting to security.ubuntu.com (91.189.91.39)\r",
      "                                                                               \r",
      "Get:9 https://packages.cloud.google.com/apt eip-cloud-bionic InRelease [5419 B]\r\n",
      "\r",
      "0% [3 InRelease gpgv 74.6 kB] [Connecting to security.ubuntu.com (91.189.91.39)\r",
      "                                                                               \r",
      "Get:10 http://packages.cloud.google.com/apt google-cloud-logging-wheezy InRelease [5483 B]\r\n",
      "\r",
      "0% [3 InRelease gpgv 74.6 kB] [Connecting to security.ubuntu.com (91.189.91.39)\r",
      "0% [3 InRelease gpgv 74.6 kB] [Connecting to security.ubuntu.com (91.189.91.39)\r",
      "0% [3 InRelease gpgv 74.6 kB] [Connecting to security.ubuntu.com (91.189.91.39)"
     ]
    },
    {
     "name": "stdout",
     "output_type": "stream",
     "text": [
      "\r",
      "                                                                               \r",
      "0% [Connecting to security.ubuntu.com (91.189.91.39)] [Waiting for headers]\r",
      "0% [4 InRelease gpgv 1484 B] [Connecting to security.ubuntu.com (91.189.91.39)]"
     ]
    },
    {
     "name": "stdout",
     "output_type": "stream",
     "text": [
      "\r",
      "                                                                               \r",
      "0% [Connecting to security.ubuntu.com (91.189.91.38)] [Waiting for headers]\r",
      "0% [6 InRelease gpgv 1481 B] [Connecting to security.ubuntu.com (91.189.91.38)]"
     ]
    },
    {
     "name": "stdout",
     "output_type": "stream",
     "text": [
      "\r",
      "                                                                               \r",
      "Hit:11 http://archive.canonical.com/ubuntu bionic InRelease\r\n",
      "\r",
      "                                                                               \r",
      "0% [6 InRelease gpgv 1481 B] [Waiting for headers]"
     ]
    },
    {
     "name": "stdout",
     "output_type": "stream",
     "text": [
      "\r",
      "                                                  \r",
      "0% [Waiting for headers]\r",
      "0% [Release.gpg gpgv 564 B] [Waiting for headers]"
     ]
    },
    {
     "name": "stdout",
     "output_type": "stream",
     "text": [
      "\r",
      "                                                 \r",
      "0% [Waiting for headers]\r",
      "0% [8 InRelease gpgv 1474 B] [Waiting for headers]"
     ]
    },
    {
     "name": "stdout",
     "output_type": "stream",
     "text": [
      "\r",
      "                                                  \r",
      "0% [Waiting for headers]\r",
      "0% [9 InRelease gpgv 5419 B] [Waiting for headers]"
     ]
    },
    {
     "name": "stdout",
     "output_type": "stream",
     "text": [
      "\r",
      "                                                  \r",
      "Err:9 https://packages.cloud.google.com/apt eip-cloud-bionic InRelease\r\n",
      "  The following signatures couldn't be verified because the public key is not available: NO_PUBKEY FEEA9169307EA071 NO_PUBKEY 8B57C5C2836F4BEB\r\n",
      "\r",
      "                                                  \r",
      "0% [Waiting for headers]\r",
      "0% [10 InRelease gpgv 5483 B] [Waiting for headers]"
     ]
    },
    {
     "name": "stdout",
     "output_type": "stream",
     "text": [
      "\r",
      "                                                   \r",
      "Err:10 http://packages.cloud.google.com/apt google-cloud-logging-wheezy InRelease\r\n",
      "  The following signatures couldn't be verified because the public key is not available: NO_PUBKEY FEEA9169307EA071 NO_PUBKEY 8B57C5C2836F4BEB\r\n",
      "\r",
      "                                                   \r",
      "0% [Waiting for headers]\r",
      "0% [11 InRelease gpgv 10.2 kB] [Waiting for headers]"
     ]
    },
    {
     "name": "stdout",
     "output_type": "stream",
     "text": [
      "\r",
      "                                                    \r",
      "0% [Waiting for headers]"
     ]
    },
    {
     "name": "stdout",
     "output_type": "stream",
     "text": [
      "\r",
      "                        \r",
      "Hit:13 http://security.ubuntu.com/ubuntu bionic-security InRelease\r\n",
      "\r",
      "                        \r",
      "0% [Working]\r",
      "0% [13 InRelease gpgv 88.7 kB]"
     ]
    },
    {
     "name": "stdout",
     "output_type": "stream",
     "text": [
      "\r",
      "                              \r",
      "0% [Working]\r",
      "            \r",
      "Fetched 174 kB in 1s (199 kB/s)\r\n"
     ]
    },
    {
     "name": "stdout",
     "output_type": "stream",
     "text": [
      "\r",
      "Reading package lists... 0%\r",
      "\r",
      "Reading package lists... 0%\r"
     ]
    },
    {
     "name": "stdout",
     "output_type": "stream",
     "text": [
      "\r",
      "Reading package lists... 0%\r",
      "\r",
      "Reading package lists... 3%\r",
      "\r",
      "Reading package lists... 3%\r",
      "\r",
      "Reading package lists... 5%\r",
      "\r",
      "Reading package lists... 5%\r",
      "\r",
      "Reading package lists... 6%\r",
      "\r",
      "Reading package lists... 6%\r",
      "\r",
      "Reading package lists... 6%\r",
      "\r",
      "Reading package lists... 6%\r"
     ]
    },
    {
     "name": "stdout",
     "output_type": "stream",
     "text": [
      "\r",
      "Reading package lists... 38%\r",
      "\r",
      "Reading package lists... 38%\r"
     ]
    },
    {
     "name": "stdout",
     "output_type": "stream",
     "text": [
      "\r",
      "Reading package lists... 55%\r",
      "\r",
      "Reading package lists... 55%\r",
      "\r",
      "Reading package lists... 56%\r",
      "\r",
      "Reading package lists... 56%\r",
      "\r",
      "Reading package lists... 56%\r",
      "\r",
      "Reading package lists... 56%\r"
     ]
    },
    {
     "name": "stdout",
     "output_type": "stream",
     "text": [
      "\r",
      "Reading package lists... 63%\r",
      "\r",
      "Reading package lists... 63%\r",
      "\r",
      "Reading package lists... 69%\r",
      "\r",
      "Reading package lists... 69%\r",
      "\r",
      "Reading package lists... 70%\r",
      "\r",
      "Reading package lists... 70%\r",
      "\r",
      "Reading package lists... 71%\r",
      "\r",
      "Reading package lists... 71%\r"
     ]
    },
    {
     "name": "stdout",
     "output_type": "stream",
     "text": [
      "\r",
      "Reading package lists... 77%\r",
      "\r",
      "Reading package lists... 77%\r",
      "\r",
      "Reading package lists... 77%\r"
     ]
    },
    {
     "name": "stdout",
     "output_type": "stream",
     "text": [
      "\r",
      "Reading package lists... 80%\r",
      "\r",
      "Reading package lists... 80%\r",
      "\r",
      "Reading package lists... 80%\r",
      "\r",
      "Reading package lists... 80%\r",
      "\r",
      "Reading package lists... 80%\r",
      "\r",
      "Reading package lists... 80%\r",
      "\r",
      "Reading package lists... 80%\r",
      "\r",
      "Reading package lists... 80%\r",
      "\r",
      "Reading package lists... 80%\r",
      "\r",
      "Reading package lists... 80%\r",
      "\r",
      "Reading package lists... 80%\r",
      "\r",
      "Reading package lists... 80%\r",
      "\r",
      "Reading package lists... 80%\r",
      "\r",
      "Reading package lists... 80%\r",
      "\r",
      "Reading package lists... 86%\r",
      "\r",
      "Reading package lists... 86%\r",
      "\r",
      "Reading package lists... 91%\r",
      "\r",
      "Reading package lists... 91%\r",
      "\r",
      "Reading package lists... 92%\r",
      "\r",
      "Reading package lists... 92%\r"
     ]
    },
    {
     "name": "stdout",
     "output_type": "stream",
     "text": [
      "\r",
      "Reading package lists... 93%\r",
      "\r",
      "Reading package lists... 93%\r",
      "\r",
      "Reading package lists... 97%\r",
      "\r",
      "Reading package lists... 97%\r",
      "\r",
      "Reading package lists... 99%\r",
      "\r",
      "Reading package lists... 99%\r",
      "\r",
      "Reading package lists... 99%\r",
      "\r",
      "Reading package lists... 99%\r",
      "\r",
      "Reading package lists... 99%\r",
      "\r",
      "Reading package lists... 99%\r",
      "\r",
      "Reading package lists... 99%\r",
      "\r",
      "Reading package lists... 99%\r",
      "\r",
      "Reading package lists... 99%\r",
      "\r",
      "Reading package lists... 99%\r",
      "\r",
      "Reading package lists... 99%\r",
      "\r",
      "Reading package lists... 99%\r",
      "\r",
      "Reading package lists... 99%\r",
      "\r",
      "Reading package lists... 99%\r",
      "\r",
      "Reading package lists... 99%\r",
      "\r",
      "Reading package lists... 99%\r",
      "\r",
      "Reading package lists... 99%\r",
      "\r",
      "Reading package lists... 99%\r",
      "\r",
      "Reading package lists... 99%\r",
      "\r",
      "Reading package lists... 99%\r"
     ]
    },
    {
     "name": "stdout",
     "output_type": "stream",
     "text": [
      "\r",
      "Reading package lists... 99%\r",
      "\r",
      "Reading package lists... 99%\r"
     ]
    },
    {
     "name": "stdout",
     "output_type": "stream",
     "text": [
      "\r",
      "Reading package lists... Done\r",
      "\r\n"
     ]
    },
    {
     "name": "stdout",
     "output_type": "stream",
     "text": [
      "W: An error occurred during the signature verification. The repository is not updated and the previous index files will be used. GPG error: https://packages.cloud.google.com/apt eip-cloud-bionic InRelease: The following signatures couldn't be verified because the public key is not available: NO_PUBKEY FEEA9169307EA071 NO_PUBKEY 8B57C5C2836F4BEB\r\n",
      "W: An error occurred during the signature verification. The repository is not updated and the previous index files will be used. GPG error: http://packages.cloud.google.com/apt google-cloud-logging-wheezy InRelease: The following signatures couldn't be verified because the public key is not available: NO_PUBKEY FEEA9169307EA071 NO_PUBKEY 8B57C5C2836F4BEB\r\n",
      "W: Failed to fetch https://packages.cloud.google.com/apt/dists/eip-cloud-bionic/InRelease  The following signatures couldn't be verified because the public key is not available: NO_PUBKEY FEEA9169307EA071 NO_PUBKEY 8B57C5C2836F4BEB\r\n",
      "W: Failed to fetch http://packages.cloud.google.com/apt/dists/google-cloud-logging-wheezy/InRelease  The following signatures couldn't be verified because the public key is not available: NO_PUBKEY FEEA9169307EA071 NO_PUBKEY 8B57C5C2836F4BEB\r\n",
      "W: Some index files failed to download. They have been ignored, or old ones used instead.\r\n"
     ]
    },
    {
     "name": "stdout",
     "output_type": "stream",
     "text": [
      "\r",
      "Reading package lists... 0%\r"
     ]
    },
    {
     "name": "stdout",
     "output_type": "stream",
     "text": [
      "\r",
      "Reading package lists... 100%\r",
      "\r",
      "Reading package lists... Done\r",
      "\r\n",
      "\r",
      "Building dependency tree... 0%\r",
      "\r",
      "Building dependency tree... 0%\r",
      "\r",
      "Building dependency tree... 50%\r",
      "\r",
      "Building dependency tree... 50%\r"
     ]
    },
    {
     "name": "stdout",
     "output_type": "stream",
     "text": [
      "\r",
      "Building dependency tree       \r",
      "\r\n",
      "\r",
      "Reading state information... 0%\r",
      "\r",
      "Reading state information... 0%\r",
      "\r",
      "Reading state information... Done\r",
      "\r\n",
      "ffmpeg is already the newest version (7:3.4.8-0ubuntu0.2).\r\n",
      "xvfb is already the newest version (2:1.19.6-1ubuntu4.9).\r\n"
     ]
    },
    {
     "name": "stdout",
     "output_type": "stream",
     "text": [
      "The following packages were automatically installed and are no longer required:\r\n",
      "  linux-gcp-5.4-headers-5.4.0-1040 linux-headers-5.4.0-1040-gcp\r\n",
      "  linux-image-5.4.0-1040-gcp linux-modules-5.4.0-1040-gcp\r\n",
      "  linux-modules-extra-5.4.0-1040-gcp\r\n",
      "Use 'sudo apt autoremove' to remove them.\r\n"
     ]
    },
    {
     "name": "stdout",
     "output_type": "stream",
     "text": [
      "0 upgraded, 0 newly installed, 0 to remove and 110 not upgraded.\r\n"
     ]
    },
    {
     "name": "stdout",
     "output_type": "stream",
     "text": [
      "Collecting imageio==2.4.0\r\n",
      "  Using cached imageio-2.4.0-py3-none-any.whl\r\n"
     ]
    },
    {
     "name": "stdout",
     "output_type": "stream",
     "text": [
      "Requirement already satisfied: numpy in /tmpfs/src/tf_docs_env/lib/python3.7/site-packages (from imageio==2.4.0) (1.19.5)\r\n",
      "Requirement already satisfied: pillow in /home/kbuilder/.local/lib/python3.7/site-packages (from imageio==2.4.0) (8.2.0)\r\n"
     ]
    },
    {
     "name": "stdout",
     "output_type": "stream",
     "text": [
      "Installing collected packages: imageio\r\n",
      "  Attempting uninstall: imageio\r\n",
      "    Found existing installation: imageio 2.9.0\r\n",
      "    Not uninstalling imageio at /home/kbuilder/.local/lib/python3.7/site-packages, outside environment /tmpfs/src/tf_docs_env\r\n",
      "    Can't uninstall 'imageio'. No files were found to uninstall.\r\n"
     ]
    },
    {
     "name": "stdout",
     "output_type": "stream",
     "text": [
      "Successfully installed imageio-2.4.0\r\n"
     ]
    },
    {
     "name": "stdout",
     "output_type": "stream",
     "text": [
      "Collecting pyvirtualdisplay\r\n",
      "  Using cached PyVirtualDisplay-2.2-py3-none-any.whl (15 kB)\r\n"
     ]
    },
    {
     "name": "stdout",
     "output_type": "stream",
     "text": [
      "Collecting EasyProcess\r\n",
      "  Using cached EasyProcess-0.3-py2.py3-none-any.whl (7.9 kB)\r\n"
     ]
    },
    {
     "name": "stdout",
     "output_type": "stream",
     "text": [
      "Installing collected packages: EasyProcess, pyvirtualdisplay\r\n"
     ]
    },
    {
     "name": "stdout",
     "output_type": "stream",
     "text": [
      "Successfully installed EasyProcess-0.3 pyvirtualdisplay-2.2\r\n"
     ]
    },
    {
     "name": "stdout",
     "output_type": "stream",
     "text": [
      "Collecting tf-agents\r\n",
      "  Using cached tf_agents-0.8.0-py3-none-any.whl (1.2 MB)\r\n"
     ]
    },
    {
     "name": "stdout",
     "output_type": "stream",
     "text": [
      "Requirement already satisfied: numpy>=1.13.3 in /tmpfs/src/tf_docs_env/lib/python3.7/site-packages (from tf-agents) (1.19.5)\r\n",
      "Requirement already satisfied: wrapt>=1.11.1 in /tmpfs/src/tf_docs_env/lib/python3.7/site-packages (from tf-agents) (1.12.1)\r\n",
      "Requirement already satisfied: typing-extensions>=3.7.4.3 in /tmpfs/src/tf_docs_env/lib/python3.7/site-packages (from tf-agents) (3.7.4.3)\r\n",
      "Requirement already satisfied: protobuf>=3.11.3 in /home/kbuilder/.local/lib/python3.7/site-packages (from tf-agents) (3.17.3)\r\n",
      "Collecting cloudpickle>=1.3\r\n",
      "  Using cached cloudpickle-1.6.0-py3-none-any.whl (23 kB)\r\n"
     ]
    },
    {
     "name": "stdout",
     "output_type": "stream",
     "text": [
      "Collecting tensorflow-probability==0.12.2\r\n",
      "  Using cached tensorflow_probability-0.12.2-py2.py3-none-any.whl (4.8 MB)\r\n"
     ]
    },
    {
     "name": "stdout",
     "output_type": "stream",
     "text": [
      "Collecting gin-config>=0.4.0\r\n",
      "  Using cached gin_config-0.4.0-py2.py3-none-any.whl (46 kB)\r\n"
     ]
    },
    {
     "name": "stdout",
     "output_type": "stream",
     "text": [
      "Collecting gym>=0.17.0\r\n",
      "  Using cached gym-0.18.3-py3-none-any.whl\r\n",
      "Requirement already satisfied: six>=1.10.0 in /tmpfs/src/tf_docs_env/lib/python3.7/site-packages (from tf-agents) (1.15.0)\r\n",
      "Requirement already satisfied: absl-py>=0.6.1 in /home/kbuilder/.local/lib/python3.7/site-packages (from tf-agents) (0.12.0)\r\n",
      "Requirement already satisfied: decorator in /home/kbuilder/.local/lib/python3.7/site-packages (from tensorflow-probability==0.12.2->tf-agents) (4.4.2)\r\n",
      "Requirement already satisfied: gast>=0.3.2 in /tmpfs/src/tf_docs_env/lib/python3.7/site-packages (from tensorflow-probability==0.12.2->tf-agents) (0.4.0)\r\n"
     ]
    },
    {
     "name": "stdout",
     "output_type": "stream",
     "text": [
      "Collecting dm-tree\r\n",
      "  Using cached dm_tree-0.1.6-cp37-cp37m-manylinux_2_24_x86_64.whl (93 kB)\r\n"
     ]
    },
    {
     "name": "stdout",
     "output_type": "stream",
     "text": [
      "Requirement already satisfied: Pillow<=8.2.0 in /home/kbuilder/.local/lib/python3.7/site-packages (from gym>=0.17.0->tf-agents) (8.2.0)\r\n",
      "Requirement already satisfied: scipy in /home/kbuilder/.local/lib/python3.7/site-packages (from gym>=0.17.0->tf-agents) (1.6.3)\r\n"
     ]
    },
    {
     "name": "stdout",
     "output_type": "stream",
     "text": [
      "Collecting pyglet<=1.5.15,>=1.4.0\r\n",
      "  Using cached pyglet-1.5.15-py3-none-any.whl (1.1 MB)\r\n"
     ]
    },
    {
     "name": "stdout",
     "output_type": "stream",
     "text": [
      "Installing collected packages: pyglet, dm-tree, cloudpickle, tensorflow-probability, gym, gin-config, tf-agents\r\n"
     ]
    },
    {
     "name": "stdout",
     "output_type": "stream",
     "text": [
      "Successfully installed cloudpickle-1.6.0 dm-tree-0.1.6 gin-config-0.4.0 gym-0.18.3 pyglet-1.5.15 tensorflow-probability-0.12.2 tf-agents-0.8.0\r\n"
     ]
    }
   ],
   "source": [
    "!sudo apt-get update\n",
    "!sudo apt-get install -y xvfb ffmpeg\n",
    "!pip install 'imageio==2.4.0'\n",
    "!pip install pyvirtualdisplay\n",
    "!pip install tf-agents"
   ]
  },
  {
   "cell_type": "code",
   "execution_count": 3,
   "metadata": {
    "execution": {
     "iopub.execute_input": "2021-06-09T12:08:11.957178Z",
     "iopub.status.busy": "2021-06-09T12:08:11.956605Z",
     "iopub.status.idle": "2021-06-09T12:08:14.002999Z",
     "shell.execute_reply": "2021-06-09T12:08:14.002481Z"
    },
    "id": "sMitx5qSgJk1"
   },
   "outputs": [],
   "source": [
    "from __future__ import absolute_import, division, print_function\n",
    "\n",
    "import base64\n",
    "import imageio\n",
    "import IPython\n",
    "import matplotlib\n",
    "import matplotlib.pyplot as plt\n",
    "import numpy as np\n",
    "import PIL.Image\n",
    "import pyvirtualdisplay\n",
    "\n",
    "import tensorflow as tf\n",
    "\n",
    "from tf_agents.agents.dqn import dqn_agent\n",
    "from tf_agents.environments import suite_gym\n",
    "from tf_agents.environments import tf_py_environment\n",
    "from tf_agents.eval import metric_utils\n",
    "from tf_agents.metrics import tf_metrics\n",
    "from tf_agents.networks import sequential\n",
    "from tf_agents.policies import random_tf_policy\n",
    "from tf_agents.replay_buffers import tf_uniform_replay_buffer\n",
    "from tf_agents.trajectories import trajectory\n",
    "from tf_agents.specs import tensor_spec\n",
    "from tf_agents.utils import common"
   ]
  },
  {
   "cell_type": "code",
   "execution_count": 4,
   "metadata": {
    "execution": {
     "iopub.execute_input": "2021-06-09T12:08:14.011610Z",
     "iopub.status.busy": "2021-06-09T12:08:14.006368Z",
     "iopub.status.idle": "2021-06-09T12:08:14.092921Z",
     "shell.execute_reply": "2021-06-09T12:08:14.093305Z"
    },
    "id": "J6HsdS5GbSjd"
   },
   "outputs": [],
   "source": [
    "# Set up a virtual display for rendering OpenAI gym environments.\n",
    "display = pyvirtualdisplay.Display(visible=0, size=(1400, 900)).start()"
   ]
  },
  {
   "cell_type": "code",
   "execution_count": 5,
   "metadata": {
    "execution": {
     "iopub.execute_input": "2021-06-09T12:08:14.100145Z",
     "iopub.status.busy": "2021-06-09T12:08:14.099380Z",
     "iopub.status.idle": "2021-06-09T12:08:14.102243Z",
     "shell.execute_reply": "2021-06-09T12:08:14.102600Z"
    },
    "id": "NspmzG4nP3b9"
   },
   "outputs": [
    {
     "data": {
      "text/plain": [
       "'2.5.0'"
      ]
     },
     "execution_count": 1,
     "metadata": {},
     "output_type": "execute_result"
    }
   ],
   "source": [
    "tf.version.VERSION"
   ]
  },
  {
   "cell_type": "markdown",
   "metadata": {
    "id": "LmC0NDhdLIKY"
   },
   "source": [
    "## Hyperparameters"
   ]
  },
  {
   "cell_type": "code",
   "execution_count": 6,
   "metadata": {
    "execution": {
     "iopub.execute_input": "2021-06-09T12:08:14.106935Z",
     "iopub.status.busy": "2021-06-09T12:08:14.106334Z",
     "iopub.status.idle": "2021-06-09T12:08:14.108518Z",
     "shell.execute_reply": "2021-06-09T12:08:14.108091Z"
    },
    "id": "HC1kNrOsLSIZ"
   },
   "outputs": [],
   "source": [
    "num_iterations = 20000 # @param {type:\"integer\"}\n",
    "\n",
    "initial_collect_steps = 100  # @param {type:\"integer\"} \n",
    "collect_steps_per_iteration = 1  # @param {type:\"integer\"}\n",
    "replay_buffer_max_length = 100000  # @param {type:\"integer\"}\n",
    "\n",
    "batch_size = 64  # @param {type:\"integer\"}\n",
    "learning_rate = 1e-3  # @param {type:\"number\"}\n",
    "log_interval = 200  # @param {type:\"integer\"}\n",
    "\n",
    "num_eval_episodes = 10  # @param {type:\"integer\"}\n",
    "eval_interval = 1000  # @param {type:\"integer\"}"
   ]
  },
  {
   "cell_type": "markdown",
   "metadata": {
    "id": "VMsJC3DEgI0x"
   },
   "source": [
    "## Environment\n",
    "\n",
    "In Reinforcement Learning (RL), an environment represents the task or problem to be solved. Standard environments can be created in TF-Agents using `tf_agents.environments` suites. TF-Agents has suites for loading environments from sources such as the OpenAI Gym, Atari, and DM Control.\n",
    "\n",
    "Load the CartPole environment from the OpenAI Gym suite. "
   ]
  },
  {
   "cell_type": "code",
   "execution_count": 7,
   "metadata": {
    "execution": {
     "iopub.execute_input": "2021-06-09T12:08:14.112114Z",
     "iopub.status.busy": "2021-06-09T12:08:14.111536Z",
     "iopub.status.idle": "2021-06-09T12:08:14.117412Z",
     "shell.execute_reply": "2021-06-09T12:08:14.116850Z"
    },
    "id": "pYEz-S9gEv2-"
   },
   "outputs": [],
   "source": [
    "env_name = 'CartPole-v0'\n",
    "env = suite_gym.load(env_name)"
   ]
  },
  {
   "cell_type": "markdown",
   "metadata": {
    "id": "IIHYVBkuvPNw"
   },
   "source": [
    "You can render this environment to see how it looks. A free-swinging pole is attached to a cart.  The goal is to move the cart right or left in order to keep the pole pointing up."
   ]
  },
  {
   "cell_type": "code",
   "execution_count": 8,
   "metadata": {
    "execution": {
     "iopub.execute_input": "2021-06-09T12:08:14.121566Z",
     "iopub.status.busy": "2021-06-09T12:08:14.120981Z",
     "iopub.status.idle": "2021-06-09T12:08:14.484223Z",
     "shell.execute_reply": "2021-06-09T12:08:14.484699Z"
    },
    "id": "RlO7WIQHu_7D"
   },
   "outputs": [
    {
     "data": {
      "image/png": "[encoded data removed]",
      "text/plain": [
       "<PIL.Image.Image image mode=RGB size=600x400 at 0x7F482107CC90>"
      ]
     },
     "execution_count": 1,
     "metadata": {},
     "output_type": "execute_result"
    }
   ],
   "source": [
    "#@test {\"skip\": true}\n",
    "env.reset()\n",
    "PIL.Image.fromarray(env.render())"
   ]
  },
  {
   "cell_type": "markdown",
   "metadata": {
    "id": "B9_lskPOey18"
   },
   "source": [
    "The `environment.step` method takes an `action` in the environment and returns a `TimeStep` tuple containing the next observation of the environment and the reward for the action.\n",
    "\n",
    "The `time_step_spec()` method returns the specification for the `TimeStep` tuple. Its `observation` attribute shows the shape of observations, the data types, and the ranges of allowed values. The `reward` attribute shows the same details for the reward.\n"
   ]
  },
  {
   "cell_type": "code",
   "execution_count": 9,
   "metadata": {
    "execution": {
     "iopub.execute_input": "2021-06-09T12:08:14.490743Z",
     "iopub.status.busy": "2021-06-09T12:08:14.490094Z",
     "iopub.status.idle": "2021-06-09T12:08:14.492374Z",
     "shell.execute_reply": "2021-06-09T12:08:14.492822Z"
    },
    "id": "exDv57iHfwQV"
   },
   "outputs": [
    {
     "name": "stdout",
     "output_type": "stream",
     "text": [
      "Observation Spec:\n",
      "BoundedArraySpec(shape=(4,), dtype=dtype('float32'), name='observation', minimum=[-4.8000002e+00 -3.4028235e+38 -4.1887903e-01 -3.4028235e+38], maximum=[4.8000002e+00 3.4028235e+38 4.1887903e-01 3.4028235e+38])\n"
     ]
    }
   ],
   "source": [
    "print('Observation Spec:')\n",
    "print(env.time_step_spec().observation)"
   ]
  },
  {
   "cell_type": "code",
   "execution_count": 10,
   "metadata": {
    "execution": {
     "iopub.execute_input": "2021-06-09T12:08:14.496826Z",
     "iopub.status.busy": "2021-06-09T12:08:14.496229Z",
     "iopub.status.idle": "2021-06-09T12:08:14.498407Z",
     "shell.execute_reply": "2021-06-09T12:08:14.498735Z"
    },
    "id": "UxiSyCbBUQPi"
   },
   "outputs": [
    {
     "name": "stdout",
     "output_type": "stream",
     "text": [
      "Reward Spec:\n",
      "ArraySpec(shape=(), dtype=dtype('float32'), name='reward')\n"
     ]
    }
   ],
   "source": [
    "print('Reward Spec:')\n",
    "print(env.time_step_spec().reward)"
   ]
  },
  {
   "cell_type": "markdown",
   "metadata": {
    "id": "b_lHcIcqUaqB"
   },
   "source": [
    "The `action_spec()` method returns the shape, data types, and allowed values of valid actions."
   ]
  },
  {
   "cell_type": "code",
   "execution_count": 11,
   "metadata": {
    "execution": {
     "iopub.execute_input": "2021-06-09T12:08:14.502299Z",
     "iopub.status.busy": "2021-06-09T12:08:14.501741Z",
     "iopub.status.idle": "2021-06-09T12:08:14.504359Z",
     "shell.execute_reply": "2021-06-09T12:08:14.503896Z"
    },
    "id": "bttJ4uxZUQBr"
   },
   "outputs": [
    {
     "name": "stdout",
     "output_type": "stream",
     "text": [
      "Action Spec:\n",
      "BoundedArraySpec(shape=(), dtype=dtype('int64'), name='action', minimum=0, maximum=1)\n"
     ]
    }
   ],
   "source": [
    "print('Action Spec:')\n",
    "print(env.action_spec())"
   ]
  },
  {
   "cell_type": "markdown",
   "metadata": {
    "id": "eJCgJnx3g0yY"
   },
   "source": [
    "In the Cartpole environment:\n",
    "\n",
    "-   `observation` is an array of 4 floats: \n",
    "    -   the position and velocity of the cart\n",
    "    -   the angular position and velocity of the pole \n",
    "-   `reward` is a scalar float value\n",
    "-   `action` is a scalar integer with only two possible values:\n",
    "    -   `0` — \"move left\"\n",
    "    -   `1` — \"move right\"\n"
   ]
  },
  {
   "cell_type": "code",
   "execution_count": 12,
   "metadata": {
    "execution": {
     "iopub.execute_input": "2021-06-09T12:08:14.511263Z",
     "iopub.status.busy": "2021-06-09T12:08:14.510707Z",
     "iopub.status.idle": "2021-06-09T12:08:14.512918Z",
     "shell.execute_reply": "2021-06-09T12:08:14.513258Z"
    },
    "id": "V2UGR5t_iZX-"
   },
   "outputs": [
    {
     "name": "stdout",
     "output_type": "stream",
     "text": [
      "Time step:\n",
      "TimeStep(\n",
      "{'discount': array(1., dtype=float32),\n",
      " 'observation': array([-0.02291739, -0.04223812,  0.04325358,  0.03615353], dtype=float32),\n",
      " 'reward': array(0., dtype=float32),\n",
      " 'step_type': array(0, dtype=int32)})\n",
      "Next time step:\n",
      "TimeStep(\n",
      "{'discount': array(1., dtype=float32),\n",
      " 'observation': array([-0.02376215,  0.15223774,  0.04397665, -0.24257484], dtype=float32),\n",
      " 'reward': array(1., dtype=float32),\n",
      " 'step_type': array(1, dtype=int32)})\n"
     ]
    }
   ],
   "source": [
    "time_step = env.reset()\n",
    "print('Time step:')\n",
    "print(time_step)\n",
    "\n",
    "action = np.array(1, dtype=np.int32)\n",
    "\n",
    "next_time_step = env.step(action)\n",
    "print('Next time step:')\n",
    "print(next_time_step)"
   ]
  },
  {
   "cell_type": "markdown",
   "metadata": {
    "id": "4JSc9GviWUBK"
   },
   "source": [
    "Usually two environments are instantiated: one for training and one for evaluation. "
   ]
  },
  {
   "cell_type": "code",
   "execution_count": 13,
   "metadata": {
    "execution": {
     "iopub.execute_input": "2021-06-09T12:08:14.518219Z",
     "iopub.status.busy": "2021-06-09T12:08:14.517279Z",
     "iopub.status.idle": "2021-06-09T12:08:14.520519Z",
     "shell.execute_reply": "2021-06-09T12:08:14.520079Z"
    },
    "id": "N7brXNIGWXjC"
   },
   "outputs": [],
   "source": [
    "train_py_env = suite_gym.load(env_name)\n",
    "eval_py_env = suite_gym.load(env_name)"
   ]
  },
  {
   "cell_type": "markdown",
   "metadata": {
    "id": "zuUqXAVmecTU"
   },
   "source": [
    "The Cartpole environment, like most environments, is written in pure Python. This is converted to TensorFlow using the `TFPyEnvironment` wrapper.\n",
    "\n",
    "The original environment's API uses Numpy arrays. The `TFPyEnvironment` converts these to `Tensors` to make it compatible with Tensorflow agents and policies.\n"
   ]
  },
  {
   "cell_type": "code",
   "execution_count": 14,
   "metadata": {
    "execution": {
     "iopub.execute_input": "2021-06-09T12:08:14.524730Z",
     "iopub.status.busy": "2021-06-09T12:08:14.524161Z",
     "iopub.status.idle": "2021-06-09T12:08:14.528917Z",
     "shell.execute_reply": "2021-06-09T12:08:14.528525Z"
    },
    "id": "Xp-Y4mD6eDhF"
   },
   "outputs": [],
   "source": [
    "train_env = tf_py_environment.TFPyEnvironment(train_py_env)\n",
    "eval_env = tf_py_environment.TFPyEnvironment(eval_py_env)"
   ]
  },
  {
   "cell_type": "markdown",
   "metadata": {
    "id": "E9lW_OZYFR8A"
   },
   "source": [
    "## Agent\n",
    "\n",
    "The algorithm used to solve an RL problem is represented by an `Agent`. TF-Agents provides standard implementations of a variety of `Agents`, including:\n",
    "\n",
    "-   [DQN](https://storage.googleapis.com/deepmind-media/dqn/DQNNaturePaper.pdf) (used in this tutorial)\n",
    "-   [REINFORCE](https://www-anw.cs.umass.edu/~barto/courses/cs687/williams92simple.pdf)\n",
    "-   [DDPG](https://arxiv.org/pdf/1509.02971.pdf)\n",
    "-   [TD3](https://arxiv.org/pdf/1802.09477.pdf)\n",
    "-   [PPO](https://arxiv.org/abs/1707.06347)\n",
    "-   [SAC](https://arxiv.org/abs/1801.01290).\n",
    "\n",
    "The DQN agent can be used in any environment which has a discrete action space.\n",
    "\n",
    "At the heart of a DQN Agent is a `QNetwork`, a neural network model that can learn to predict `QValues` (expected returns) for all actions, given an observation from the environment.\n",
    "\n",
    "We will use `tf_agents.networks.` to create a `QNetwork`. The network will consist of a sequence of `tf.keras.layers.Dense` layers, where the final layer will have 1 output for each possible action."
   ]
  },
  {
   "cell_type": "code",
   "execution_count": 15,
   "metadata": {
    "execution": {
     "iopub.execute_input": "2021-06-09T12:08:14.537481Z",
     "iopub.status.busy": "2021-06-09T12:08:14.534314Z",
     "iopub.status.idle": "2021-06-09T12:08:14.547005Z",
     "shell.execute_reply": "2021-06-09T12:08:14.546563Z"
    },
    "id": "TgkdEPg_muzV"
   },
   "outputs": [],
   "source": [
    "fc_layer_params = (100, 50)\n",
    "action_tensor_spec = tensor_spec.from_spec(env.action_spec())\n",
    "num_actions = action_tensor_spec.maximum - action_tensor_spec.minimum + 1\n",
    "\n",
    "# Define a helper function to create Dense layers configured with the right\n",
    "# activation and kernel initializer.\n",
    "def dense_layer(num_units):\n",
    "  return tf.keras.layers.Dense(\n",
    "      num_units,\n",
    "      activation=tf.keras.activations.relu,\n",
    "      kernel_initializer=tf.keras.initializers.VarianceScaling(\n",
    "          scale=2.0, mode='fan_in', distribution='truncated_normal'))\n",
    "\n",
    "# QNetwork consists of a sequence of Dense layers followed by a dense layer\n",
    "# with `num_actions` units to generate one q_value per available action as\n",
    "# it's output.\n",
    "dense_layers = [dense_layer(num_units) for num_units in fc_layer_params]\n",
    "q_values_layer = tf.keras.layers.Dense(\n",
    "    num_actions,\n",
    "    activation=None,\n",
    "    kernel_initializer=tf.keras.initializers.RandomUniform(\n",
    "        minval=-0.03, maxval=0.03),\n",
    "    bias_initializer=tf.keras.initializers.Constant(-0.2))\n",
    "q_net = sequential.Sequential(dense_layers + [q_values_layer])"
   ]
  },
  {
   "cell_type": "markdown",
   "metadata": {
    "id": "z62u55hSmviJ"
   },
   "source": [
    "Now use `tf_agents.agents.dqn.dqn_agent` to instantiate a `DqnAgent`. In addition to the `time_step_spec`, `action_spec` and the QNetwork, the agent constructor also requires an optimizer (in this case, `AdamOptimizer`), a loss function, and an integer step counter."
   ]
  },
  {
   "cell_type": "code",
   "execution_count": 16,
   "metadata": {
    "execution": {
     "iopub.execute_input": "2021-06-09T12:08:14.557560Z",
     "iopub.status.busy": "2021-06-09T12:08:14.556642Z",
     "iopub.status.idle": "2021-06-09T12:08:14.583406Z",
     "shell.execute_reply": "2021-06-09T12:08:14.582980Z"
    },
    "id": "jbY4yrjTEyc9"
   },
   "outputs": [],
   "source": [
    "optimizer = tf.keras.optimizers.Adam(learning_rate=learning_rate)\n",
    "\n",
    "train_step_counter = tf.Variable(0)\n",
    "\n",
    "agent = dqn_agent.DqnAgent(\n",
    "    train_env.time_step_spec(),\n",
    "    train_env.action_spec(),\n",
    "    q_network=q_net,\n",
    "    optimizer=optimizer,\n",
    "    td_errors_loss_fn=common.element_wise_squared_loss,\n",
    "    train_step_counter=train_step_counter)\n",
    "\n",
    "agent.initialize()"
   ]
  },
  {
   "cell_type": "markdown",
   "metadata": {
    "id": "I0KLrEPwkn5x"
   },
   "source": [
    "## Policies\n",
    "\n",
    "A policy defines the way an agent acts in an environment. Typically, the goal of reinforcement learning is to train the underlying model until the policy produces the desired outcome.\n",
    "\n",
    "In this tutorial:\n",
    "\n",
    "-   The desired outcome is keeping the pole balanced upright over the cart.\n",
    "-   The policy returns an action (left or right) for each `time_step` observation.\n",
    "\n",
    "Agents contain two policies: \n",
    "\n",
    "-   `agent.policy` — The main policy that is used for evaluation and deployment.\n",
    "-   `agent.collect_policy` — A second policy that is used for data collection.\n"
   ]
  },
  {
   "cell_type": "code",
   "execution_count": 17,
   "metadata": {
    "execution": {
     "iopub.execute_input": "2021-06-09T12:08:14.586763Z",
     "iopub.status.busy": "2021-06-09T12:08:14.586219Z",
     "iopub.status.idle": "2021-06-09T12:08:14.588277Z",
     "shell.execute_reply": "2021-06-09T12:08:14.587817Z"
    },
    "id": "BwY7StuMkuV4"
   },
   "outputs": [],
   "source": [
    "eval_policy = agent.policy\n",
    "collect_policy = agent.collect_policy"
   ]
  },
  {
   "cell_type": "markdown",
   "metadata": {
    "id": "2Qs1Fl3dV0ae"
   },
   "source": [
    "Policies can be created independently of agents. For example, use `tf_agents.policies.random_tf_policy` to create a policy which will randomly select an action for each `time_step`."
   ]
  },
  {
   "cell_type": "code",
   "execution_count": 18,
   "metadata": {
    "execution": {
     "iopub.execute_input": "2021-06-09T12:08:14.591871Z",
     "iopub.status.busy": "2021-06-09T12:08:14.591259Z",
     "iopub.status.idle": "2021-06-09T12:08:14.593049Z",
     "shell.execute_reply": "2021-06-09T12:08:14.593386Z"
    },
    "id": "HE37-UCIrE69"
   },
   "outputs": [],
   "source": [
    "random_policy = random_tf_policy.RandomTFPolicy(train_env.time_step_spec(),\n",
    "                                                train_env.action_spec())"
   ]
  },
  {
   "cell_type": "markdown",
   "metadata": {
    "id": "dOlnlRRsUbxP"
   },
   "source": [
    "To get an action from a policy, call the `policy.action(time_step)` method. The `time_step` contains the observation from the environment. This method returns a `PolicyStep`, which is a named tuple with three components:\n",
    "\n",
    "-   `action` — the action to be taken (in this case, `0` or `1`)\n",
    "-   `state` — used for stateful (that is, RNN-based) policies\n",
    "-   `info` — auxiliary data, such as log probabilities of actions"
   ]
  },
  {
   "cell_type": "code",
   "execution_count": 19,
   "metadata": {
    "execution": {
     "iopub.execute_input": "2021-06-09T12:08:14.597963Z",
     "iopub.status.busy": "2021-06-09T12:08:14.597402Z",
     "iopub.status.idle": "2021-06-09T12:08:14.716890Z",
     "shell.execute_reply": "2021-06-09T12:08:14.717263Z"
    },
    "id": "5gCcpXswVAxk"
   },
   "outputs": [],
   "source": [
    "example_environment = tf_py_environment.TFPyEnvironment(\n",
    "    suite_gym.load('CartPole-v0'))"
   ]
  },
  {
   "cell_type": "code",
   "execution_count": 20,
   "metadata": {
    "execution": {
     "iopub.execute_input": "2021-06-09T12:08:14.721349Z",
     "iopub.status.busy": "2021-06-09T12:08:14.720749Z",
     "iopub.status.idle": "2021-06-09T12:08:14.722701Z",
     "shell.execute_reply": "2021-06-09T12:08:14.723022Z"
    },
    "id": "D4DHZtq3Ndis"
   },
   "outputs": [],
   "source": [
    "time_step = example_environment.reset()"
   ]
  },
  {
   "cell_type": "code",
   "execution_count": 21,
   "metadata": {
    "execution": {
     "iopub.execute_input": "2021-06-09T12:08:14.726419Z",
     "iopub.status.busy": "2021-06-09T12:08:14.725854Z",
     "iopub.status.idle": "2021-06-09T12:08:14.730052Z",
     "shell.execute_reply": "2021-06-09T12:08:14.730394Z"
    },
    "id": "PRFqAUzpNaAW"
   },
   "outputs": [
    {
     "data": {
      "text/plain": [
       "PolicyStep(action=<tf.Tensor: shape=(1,), dtype=int64, numpy=array([1])>, state=(), info=())"
      ]
     },
     "execution_count": 1,
     "metadata": {},
     "output_type": "execute_result"
    }
   ],
   "source": [
    "random_policy.action(time_step)"
   ]
  },
  {
   "cell_type": "markdown",
   "metadata": {
    "id": "94rCXQtbUbXv"
   },
   "source": [
    "## Metrics and Evaluation\n",
    "\n",
    "The most common metric used to evaluate a policy is the average return. The return is the sum of rewards obtained while running a policy in an environment for an episode. Several episodes are run, creating an average return.\n",
    "\n",
    "The following function computes the average return of a policy, given the policy, environment, and a number of episodes.\n"
   ]
  },
  {
   "cell_type": "code",
   "execution_count": 22,
   "metadata": {
    "execution": {
     "iopub.execute_input": "2021-06-09T12:08:14.735009Z",
     "iopub.status.busy": "2021-06-09T12:08:14.734447Z",
     "iopub.status.idle": "2021-06-09T12:08:14.736044Z",
     "shell.execute_reply": "2021-06-09T12:08:14.736380Z"
    },
    "id": "bitzHo5_UbXy"
   },
   "outputs": [],
   "source": [
    "#@test {\"skip\": true}\n",
    "def compute_avg_return(environment, policy, num_episodes=10):\n",
    "\n",
    "  total_return = 0.0\n",
    "  for _ in range(num_episodes):\n",
    "\n",
    "    time_step = environment.reset()\n",
    "    episode_return = 0.0\n",
    "\n",
    "    while not time_step.is_last():\n",
    "      action_step = policy.action(time_step)\n",
    "      time_step = environment.step(action_step.action)\n",
    "      episode_return += time_step.reward\n",
    "    total_return += episode_return\n",
    "\n",
    "  avg_return = total_return / num_episodes\n",
    "  return avg_return.numpy()[0]\n",
    "\n",
    "\n",
    "# See also the metrics module for standard implementations of different metrics.\n",
    "# https://github.com/tensorflow/agents/tree/master/tf_agents/metrics"
   ]
  },
  {
   "cell_type": "markdown",
   "metadata": {
    "id": "_snCVvq5Z8lJ"
   },
   "source": [
    "Running this computation on the `random_policy` shows a baseline performance in the environment."
   ]
  },
  {
   "cell_type": "code",
   "execution_count": 23,
   "metadata": {
    "execution": {
     "iopub.execute_input": "2021-06-09T12:08:14.740249Z",
     "iopub.status.busy": "2021-06-09T12:08:14.739680Z",
     "iopub.status.idle": "2021-06-09T12:08:15.082571Z",
     "shell.execute_reply": "2021-06-09T12:08:15.082135Z"
    },
    "id": "9bgU6Q6BZ8Bp"
   },
   "outputs": [
    {
     "data": {
      "text/plain": [
       "28.4"
      ]
     },
     "execution_count": 1,
     "metadata": {},
     "output_type": "execute_result"
    }
   ],
   "source": [
    "compute_avg_return(eval_env, random_policy, num_eval_episodes)"
   ]
  },
  {
   "cell_type": "markdown",
   "metadata": {
    "id": "NLva6g2jdWgr"
   },
   "source": [
    "## Replay Buffer\n",
    "\n",
    "The replay buffer keeps track of data collected from the environment. This tutorial uses `tf_agents.replay_buffers.tf_uniform_replay_buffer.TFUniformReplayBuffer`, as it is the most common. \n",
    "\n",
    "The constructor requires the specs for the data it will be collecting. This is available from the agent using the `collect_data_spec` method. The batch size and maximum buffer length are also required.\n"
   ]
  },
  {
   "cell_type": "code",
   "execution_count": 24,
   "metadata": {
    "execution": {
     "iopub.execute_input": "2021-06-09T12:08:15.086440Z",
     "iopub.status.busy": "2021-06-09T12:08:15.085869Z",
     "iopub.status.idle": "2021-06-09T12:08:15.095564Z",
     "shell.execute_reply": "2021-06-09T12:08:15.095099Z"
    },
    "id": "vX2zGUWJGWAl"
   },
   "outputs": [],
   "source": [
    "replay_buffer = tf_uniform_replay_buffer.TFUniformReplayBuffer(\n",
    "    data_spec=agent.collect_data_spec,\n",
    "    batch_size=train_env.batch_size,\n",
    "    max_length=replay_buffer_max_length)"
   ]
  },
  {
   "cell_type": "markdown",
   "metadata": {
    "id": "ZGNTDJpZs4NN"
   },
   "source": [
    "For most agents, `collect_data_spec` is a named tuple called `Trajectory`, containing the specs for observations, actions, rewards, and other items."
   ]
  },
  {
   "cell_type": "code",
   "execution_count": 25,
   "metadata": {
    "execution": {
     "iopub.execute_input": "2021-06-09T12:08:15.100519Z",
     "iopub.status.busy": "2021-06-09T12:08:15.099957Z",
     "iopub.status.idle": "2021-06-09T12:08:15.102769Z",
     "shell.execute_reply": "2021-06-09T12:08:15.102379Z"
    },
    "id": "_IZ-3HcqgE1z"
   },
   "outputs": [
    {
     "data": {
      "text/plain": [
       "Trajectory(\n",
       "{'action': BoundedTensorSpec(shape=(), dtype=tf.int64, name='action', minimum=array(0), maximum=array(1)),\n",
       " 'discount': BoundedTensorSpec(shape=(), dtype=tf.float32, name='discount', minimum=array(0., dtype=float32), maximum=array(1., dtype=float32)),\n",
       " 'next_step_type': TensorSpec(shape=(), dtype=tf.int32, name='step_type'),\n",
       " 'observation': BoundedTensorSpec(shape=(4,), dtype=tf.float32, name='observation', minimum=array([-4.8000002e+00, -3.4028235e+38, -4.1887903e-01, -3.4028235e+38],\n",
       "      dtype=float32), maximum=array([4.8000002e+00, 3.4028235e+38, 4.1887903e-01, 3.4028235e+38],\n",
       "      dtype=float32)),\n",
       " 'policy_info': (),\n",
       " 'reward': TensorSpec(shape=(), dtype=tf.float32, name='reward'),\n",
       " 'step_type': TensorSpec(shape=(), dtype=tf.int32, name='step_type')})"
      ]
     },
     "execution_count": 1,
     "metadata": {},
     "output_type": "execute_result"
    }
   ],
   "source": [
    "agent.collect_data_spec"
   ]
  },
  {
   "cell_type": "code",
   "execution_count": 26,
   "metadata": {
    "execution": {
     "iopub.execute_input": "2021-06-09T12:08:15.106194Z",
     "iopub.status.busy": "2021-06-09T12:08:15.105617Z",
     "iopub.status.idle": "2021-06-09T12:08:15.108347Z",
     "shell.execute_reply": "2021-06-09T12:08:15.107944Z"
    },
    "id": "sy6g1tGcfRlw"
   },
   "outputs": [
    {
     "data": {
      "text/plain": [
       "('step_type',\n",
       " 'observation',\n",
       " 'action',\n",
       " 'policy_info',\n",
       " 'next_step_type',\n",
       " 'reward',\n",
       " 'discount')"
      ]
     },
     "execution_count": 1,
     "metadata": {},
     "output_type": "execute_result"
    }
   ],
   "source": [
    "agent.collect_data_spec._fields"
   ]
  },
  {
   "cell_type": "markdown",
   "metadata": {
    "id": "rVD5nQ9ZGo8_"
   },
   "source": [
    "## Data Collection\n",
    "\n",
    "Now execute the random policy in the environment for a few steps, recording the data in the replay buffer."
   ]
  },
  {
   "cell_type": "code",
   "execution_count": 27,
   "metadata": {
    "execution": {
     "iopub.execute_input": "2021-06-09T12:08:15.113897Z",
     "iopub.status.busy": "2021-06-09T12:08:15.112829Z",
     "iopub.status.idle": "2021-06-09T12:08:15.327852Z",
     "shell.execute_reply": "2021-06-09T12:08:15.327409Z"
    },
    "id": "wr1KSAEGG4h9"
   },
   "outputs": [],
   "source": [
    "#@test {\"skip\": true}\n",
    "def collect_step(environment, policy, buffer):\n",
    "  time_step = environment.current_time_step()\n",
    "  action_step = policy.action(time_step)\n",
    "  next_time_step = environment.step(action_step.action)\n",
    "  traj = trajectory.from_transition(time_step, action_step, next_time_step)\n",
    "\n",
    "  # Add trajectory to the replay buffer\n",
    "  buffer.add_batch(traj)\n",
    "\n",
    "def collect_data(env, policy, buffer, steps):\n",
    "  for _ in range(steps):\n",
    "    collect_step(env, policy, buffer)\n",
    "\n",
    "collect_data(train_env, random_policy, replay_buffer, initial_collect_steps)\n",
    "\n",
    "# This loop is so common in RL, that we provide standard implementations. \n",
    "# For more details see tutorial 4 or the drivers module.\n",
    "# https://github.com/tensorflow/agents/blob/master/docs/tutorials/4_drivers_tutorial.ipynb \n",
    "# https://www.tensorflow.org/agents/api_docs/python/tf_agents/drivers"
   ]
  },
  {
   "cell_type": "markdown",
   "metadata": {
    "id": "84z5pQJdoKxo"
   },
   "source": [
    "The replay buffer is now a collection of Trajectories."
   ]
  },
  {
   "cell_type": "code",
   "execution_count": 28,
   "metadata": {
    "execution": {
     "iopub.execute_input": "2021-06-09T12:08:15.330914Z",
     "iopub.status.busy": "2021-06-09T12:08:15.330365Z",
     "iopub.status.idle": "2021-06-09T12:08:15.332044Z",
     "shell.execute_reply": "2021-06-09T12:08:15.332385Z"
    },
    "id": "4wZnLu2ViO4E"
   },
   "outputs": [],
   "source": [
    "# For the curious:\n",
    "# Uncomment to peel one of these off and inspect it.\n",
    "# iter(replay_buffer.as_dataset()).next()"
   ]
  },
  {
   "cell_type": "markdown",
   "metadata": {
    "id": "TujU-PMUsKjS"
   },
   "source": [
    "The agent needs access to the replay buffer. This is provided by creating an iterable `tf.data.Dataset` pipeline which will feed data to the agent.\n",
    "\n",
    "Each row of the replay buffer only stores a single observation step. But since the DQN Agent needs both the current and next observation to compute the loss, the dataset pipeline will sample two adjacent rows for each item in the batch (`num_steps=2`).\n",
    "\n",
    "This dataset is also optimized by running parallel calls and prefetching data."
   ]
  },
  {
   "cell_type": "code",
   "execution_count": 29,
   "metadata": {
    "execution": {
     "iopub.execute_input": "2021-06-09T12:08:15.335992Z",
     "iopub.status.busy": "2021-06-09T12:08:15.335415Z",
     "iopub.status.idle": "2021-06-09T12:08:15.917058Z",
     "shell.execute_reply": "2021-06-09T12:08:15.917395Z"
    },
    "id": "ba7bilizt_qW"
   },
   "outputs": [
    {
     "name": "stdout",
     "output_type": "stream",
     "text": [
      "WARNING:tensorflow:From /tmpfs/src/tf_docs_env/lib/python3.7/site-packages/tensorflow/python/autograph/impl/api.py:382: ReplayBuffer.get_next (from tf_agents.replay_buffers.replay_buffer) is deprecated and will be removed in a future version.\n",
      "Instructions for updating:\n",
      "Use `as_dataset(..., single_deterministic_pass=False) instead.\n"
     ]
    },
    {
     "data": {
      "text/plain": [
       "<PrefetchDataset shapes: (Trajectory(\n",
       "{action: (64, 2),\n",
       " discount: (64, 2),\n",
       " next_step_type: (64, 2),\n",
       " observation: (64, 2, 4),\n",
       " policy_info: (),\n",
       " reward: (64, 2),\n",
       " step_type: (64, 2)}), BufferInfo(ids=(64, 2), probabilities=(64,))), types: (Trajectory(\n",
       "{action: tf.int64,\n",
       " discount: tf.float32,\n",
       " next_step_type: tf.int32,\n",
       " observation: tf.float32,\n",
       " policy_info: (),\n",
       " reward: tf.float32,\n",
       " step_type: tf.int32}), BufferInfo(ids=tf.int64, probabilities=tf.float32))>"
      ]
     },
     "execution_count": 1,
     "metadata": {},
     "output_type": "execute_result"
    }
   ],
   "source": [
    "# Dataset generates trajectories with shape [Bx2x...]\n",
    "dataset = replay_buffer.as_dataset(\n",
    "    num_parallel_calls=3, \n",
    "    sample_batch_size=batch_size, \n",
    "    num_steps=2).prefetch(3)\n",
    "\n",
    "\n",
    "dataset"
   ]
  },
  {
   "cell_type": "code",
   "execution_count": 30,
   "metadata": {
    "execution": {
     "iopub.execute_input": "2021-06-09T12:08:15.920917Z",
     "iopub.status.busy": "2021-06-09T12:08:15.920327Z",
     "iopub.status.idle": "2021-06-09T12:08:15.978263Z",
     "shell.execute_reply": "2021-06-09T12:08:15.978640Z"
    },
    "id": "K13AST-2ppOq"
   },
   "outputs": [
    {
     "name": "stdout",
     "output_type": "stream",
     "text": [
      "<tensorflow.python.data.ops.iterator_ops.OwnedIterator object at 0x7f480466f5d0>\n"
     ]
    }
   ],
   "source": [
    "iterator = iter(dataset)\n",
    "print(iterator)"
   ]
  },
  {
   "cell_type": "code",
   "execution_count": 31,
   "metadata": {
    "execution": {
     "iopub.execute_input": "2021-06-09T12:08:15.981611Z",
     "iopub.status.busy": "2021-06-09T12:08:15.981053Z",
     "iopub.status.idle": "2021-06-09T12:08:15.982722Z",
     "shell.execute_reply": "2021-06-09T12:08:15.983047Z"
    },
    "id": "Th5w5Sff0b16"
   },
   "outputs": [],
   "source": [
    "# For the curious:\n",
    "# Uncomment to see what the dataset iterator is feeding to the agent.\n",
    "# Compare this representation of replay data \n",
    "# to the collection of individual trajectories shown earlier.\n",
    "\n",
    "# iterator.next()"
   ]
  },
  {
   "cell_type": "markdown",
   "metadata": {
    "id": "hBc9lj9VWWtZ"
   },
   "source": [
    "## Training the agent\n",
    "\n",
    "Two things must happen during the training loop:\n",
    "\n",
    "-   collect data from the environment\n",
    "-   use that data to train the agent's neural network(s)\n",
    "\n",
    "This example also periodicially evaluates the policy and prints the current score.\n",
    "\n",
    "The following will take ~5 minutes to run."
   ]
  },
  {
   "cell_type": "code",
   "execution_count": 32,
   "metadata": {
    "execution": {
     "iopub.execute_input": "2021-06-09T12:08:15.990870Z",
     "iopub.status.busy": "2021-06-09T12:08:15.990298Z",
     "iopub.status.idle": "2021-06-09T12:12:24.897936Z",
     "shell.execute_reply": "2021-06-09T12:12:24.898275Z"
    },
    "id": "0pTbJ3PeyF-u"
   },
   "outputs": [
    {
     "name": "stdout",
     "output_type": "stream",
     "text": [
      "WARNING:tensorflow:From /tmpfs/src/tf_docs_env/lib/python3.7/site-packages/tensorflow/python/util/dispatch.py:206: calling foldr_v2 (from tensorflow.python.ops.functional_ops) with back_prop=False is deprecated and will be removed in a future version.\n",
      "Instructions for updating:\n",
      "back_prop=False is deprecated. Consider using tf.stop_gradient instead.\n",
      "Instead of:\n",
      "results = tf.foldr(fn, elems, back_prop=False)\n",
      "Use:\n",
      "results = tf.nest.map_structure(tf.stop_gradient, tf.foldr(fn, elems))\n"
     ]
    },
    {
     "name": "stdout",
     "output_type": "stream",
     "text": [
      "step = 200: loss = 18.56928825378418\n"
     ]
    },
    {
     "name": "stdout",
     "output_type": "stream",
     "text": [
      "step = 400: loss = 5.047736167907715\n"
     ]
    },
    {
     "name": "stdout",
     "output_type": "stream",
     "text": [
      "step = 600: loss = 14.25174331665039\n"
     ]
    },
    {
     "name": "stdout",
     "output_type": "stream",
     "text": [
      "step = 800: loss = 24.014192581176758\n"
     ]
    },
    {
     "name": "stdout",
     "output_type": "stream",
     "text": [
      "step = 1000: loss = 18.762466430664062\n"
     ]
    },
    {
     "name": "stdout",
     "output_type": "stream",
     "text": [
      "step = 1000: Average Return = 154.1999969482422\n"
     ]
    },
    {
     "name": "stdout",
     "output_type": "stream",
     "text": [
      "step = 1200: loss = 48.24091339111328\n"
     ]
    },
    {
     "name": "stdout",
     "output_type": "stream",
     "text": [
      "step = 1400: loss = 32.6214599609375\n"
     ]
    },
    {
     "name": "stdout",
     "output_type": "stream",
     "text": [
      "step = 1600: loss = 47.680694580078125\n"
     ]
    },
    {
     "name": "stdout",
     "output_type": "stream",
     "text": [
      "step = 1800: loss = 242.03060913085938\n"
     ]
    },
    {
     "name": "stdout",
     "output_type": "stream",
     "text": [
      "step = 2000: loss = 73.53008270263672\n"
     ]
    },
    {
     "name": "stdout",
     "output_type": "stream",
     "text": [
      "step = 2000: Average Return = 200.0\n"
     ]
    },
    {
     "name": "stdout",
     "output_type": "stream",
     "text": [
      "step = 2200: loss = 53.16136169433594\n"
     ]
    },
    {
     "name": "stdout",
     "output_type": "stream",
     "text": [
      "step = 2400: loss = 373.9162902832031\n"
     ]
    },
    {
     "name": "stdout",
     "output_type": "stream",
     "text": [
      "step = 2600: loss = 39.21461486816406\n"
     ]
    },
    {
     "name": "stdout",
     "output_type": "stream",
     "text": [
      "step = 2800: loss = 105.97955322265625\n"
     ]
    },
    {
     "name": "stdout",
     "output_type": "stream",
     "text": [
      "step = 3000: loss = 119.51268768310547\n"
     ]
    },
    {
     "name": "stdout",
     "output_type": "stream",
     "text": [
      "step = 3000: Average Return = 200.0\n"
     ]
    },
    {
     "name": "stdout",
     "output_type": "stream",
     "text": [
      "step = 3200: loss = 226.07618713378906\n"
     ]
    },
    {
     "name": "stdout",
     "output_type": "stream",
     "text": [
      "step = 3400: loss = 442.111572265625\n"
     ]
    },
    {
     "name": "stdout",
     "output_type": "stream",
     "text": [
      "step = 3600: loss = 437.02545166015625\n"
     ]
    },
    {
     "name": "stdout",
     "output_type": "stream",
     "text": [
      "step = 3800: loss = 662.8380737304688\n"
     ]
    },
    {
     "name": "stdout",
     "output_type": "stream",
     "text": [
      "step = 4000: loss = 782.982421875\n"
     ]
    },
    {
     "name": "stdout",
     "output_type": "stream",
     "text": [
      "step = 4000: Average Return = 200.0\n"
     ]
    },
    {
     "name": "stdout",
     "output_type": "stream",
     "text": [
      "step = 4200: loss = 121945.578125\n"
     ]
    },
    {
     "name": "stdout",
     "output_type": "stream",
     "text": [
      "step = 4400: loss = 2674.33154296875\n"
     ]
    },
    {
     "name": "stdout",
     "output_type": "stream",
     "text": [
      "step = 4600: loss = 2334.872802734375\n"
     ]
    },
    {
     "name": "stdout",
     "output_type": "stream",
     "text": [
      "step = 4800: loss = 2527.200927734375\n"
     ]
    },
    {
     "name": "stdout",
     "output_type": "stream",
     "text": [
      "step = 5000: loss = 8297.3955078125\n"
     ]
    },
    {
     "name": "stdout",
     "output_type": "stream",
     "text": [
      "step = 5000: Average Return = 200.0\n"
     ]
    },
    {
     "name": "stdout",
     "output_type": "stream",
     "text": [
      "step = 5200: loss = 8597.1923828125\n"
     ]
    },
    {
     "name": "stdout",
     "output_type": "stream",
     "text": [
      "step = 5400: loss = 7340.04443359375\n"
     ]
    },
    {
     "name": "stdout",
     "output_type": "stream",
     "text": [
      "step = 5600: loss = 3453.21728515625\n"
     ]
    },
    {
     "name": "stdout",
     "output_type": "stream",
     "text": [
      "step = 5800: loss = 27120.724609375\n"
     ]
    },
    {
     "name": "stdout",
     "output_type": "stream",
     "text": [
      "step = 6000: loss = 48760.671875\n"
     ]
    },
    {
     "name": "stdout",
     "output_type": "stream",
     "text": [
      "step = 6000: Average Return = 200.0\n"
     ]
    },
    {
     "name": "stdout",
     "output_type": "stream",
     "text": [
      "step = 6200: loss = 38986.421875\n"
     ]
    },
    {
     "name": "stdout",
     "output_type": "stream",
     "text": [
      "step = 6400: loss = 48238.234375\n"
     ]
    },
    {
     "name": "stdout",
     "output_type": "stream",
     "text": [
      "step = 6600: loss = 57711.22265625\n"
     ]
    },
    {
     "name": "stdout",
     "output_type": "stream",
     "text": [
      "step = 6800: loss = 274270.9375\n"
     ]
    },
    {
     "name": "stdout",
     "output_type": "stream",
     "text": [
      "step = 7000: loss = 63824.61328125\n"
     ]
    },
    {
     "name": "stdout",
     "output_type": "stream",
     "text": [
      "step = 7000: Average Return = 200.0\n"
     ]
    },
    {
     "name": "stdout",
     "output_type": "stream",
     "text": [
      "step = 7200: loss = 119148.859375\n"
     ]
    },
    {
     "name": "stdout",
     "output_type": "stream",
     "text": [
      "step = 7400: loss = 159678.6875\n"
     ]
    },
    {
     "name": "stdout",
     "output_type": "stream",
     "text": [
      "step = 7600: loss = 141013.96875\n"
     ]
    },
    {
     "name": "stdout",
     "output_type": "stream",
     "text": [
      "step = 7800: loss = 596496.9375\n"
     ]
    },
    {
     "name": "stdout",
     "output_type": "stream",
     "text": [
      "step = 8000: loss = 563607.125\n"
     ]
    },
    {
     "name": "stdout",
     "output_type": "stream",
     "text": [
      "step = 8000: Average Return = 200.0\n"
     ]
    },
    {
     "name": "stdout",
     "output_type": "stream",
     "text": [
      "step = 8200: loss = 7630604.0\n"
     ]
    },
    {
     "name": "stdout",
     "output_type": "stream",
     "text": [
      "step = 8400: loss = 13285580.0\n"
     ]
    },
    {
     "name": "stdout",
     "output_type": "stream",
     "text": [
      "step = 8600: loss = 333170048.0\n"
     ]
    },
    {
     "name": "stdout",
     "output_type": "stream",
     "text": [
      "step = 8800: loss = 23120384.0\n"
     ]
    },
    {
     "name": "stdout",
     "output_type": "stream",
     "text": [
      "step = 9000: loss = 369857056.0\n"
     ]
    },
    {
     "name": "stdout",
     "output_type": "stream",
     "text": [
      "step = 9000: Average Return = 200.0\n"
     ]
    },
    {
     "name": "stdout",
     "output_type": "stream",
     "text": [
      "step = 9200: loss = 17108284.0\n"
     ]
    },
    {
     "name": "stdout",
     "output_type": "stream",
     "text": [
      "step = 9400: loss = 49773056.0\n"
     ]
    },
    {
     "name": "stdout",
     "output_type": "stream",
     "text": [
      "step = 9600: loss = 21419348.0\n"
     ]
    },
    {
     "name": "stdout",
     "output_type": "stream",
     "text": [
      "step = 9800: loss = 148333248.0\n"
     ]
    },
    {
     "name": "stdout",
     "output_type": "stream",
     "text": [
      "step = 10000: loss = 67406928.0\n"
     ]
    },
    {
     "name": "stdout",
     "output_type": "stream",
     "text": [
      "step = 10000: Average Return = 77.0999984741211\n"
     ]
    },
    {
     "name": "stdout",
     "output_type": "stream",
     "text": [
      "step = 10200: loss = 16730348.0\n"
     ]
    },
    {
     "name": "stdout",
     "output_type": "stream",
     "text": [
      "step = 10400: loss = 19317756.0\n"
     ]
    },
    {
     "name": "stdout",
     "output_type": "stream",
     "text": [
      "step = 10600: loss = 12585502.0\n"
     ]
    },
    {
     "name": "stdout",
     "output_type": "stream",
     "text": [
      "step = 10800: loss = 15987130.0\n"
     ]
    },
    {
     "name": "stdout",
     "output_type": "stream",
     "text": [
      "step = 11000: loss = 32655918.0\n"
     ]
    },
    {
     "name": "stdout",
     "output_type": "stream",
     "text": [
      "step = 11000: Average Return = 200.0\n"
     ]
    },
    {
     "name": "stdout",
     "output_type": "stream",
     "text": [
      "step = 11200: loss = 11686570.0\n"
     ]
    },
    {
     "name": "stdout",
     "output_type": "stream",
     "text": [
      "step = 11400: loss = 15297463.0\n"
     ]
    },
    {
     "name": "stdout",
     "output_type": "stream",
     "text": [
      "step = 11600: loss = 15890760.0\n"
     ]
    },
    {
     "name": "stdout",
     "output_type": "stream",
     "text": [
      "step = 11800: loss = 17948140.0\n"
     ]
    },
    {
     "name": "stdout",
     "output_type": "stream",
     "text": [
      "step = 12000: loss = 7198852.5\n"
     ]
    },
    {
     "name": "stdout",
     "output_type": "stream",
     "text": [
      "step = 12000: Average Return = 200.0\n"
     ]
    },
    {
     "name": "stdout",
     "output_type": "stream",
     "text": [
      "step = 12200: loss = 12537673.0\n"
     ]
    },
    {
     "name": "stdout",
     "output_type": "stream",
     "text": [
      "step = 12400: loss = 11662791.0\n"
     ]
    },
    {
     "name": "stdout",
     "output_type": "stream",
     "text": [
      "step = 12600: loss = 157308304.0\n"
     ]
    },
    {
     "name": "stdout",
     "output_type": "stream",
     "text": [
      "step = 12800: loss = 9338672.0\n"
     ]
    },
    {
     "name": "stdout",
     "output_type": "stream",
     "text": [
      "step = 13000: loss = 7486102.0\n"
     ]
    },
    {
     "name": "stdout",
     "output_type": "stream",
     "text": [
      "step = 13000: Average Return = 200.0\n"
     ]
    },
    {
     "name": "stdout",
     "output_type": "stream",
     "text": [
      "step = 13200: loss = 7827698.5\n"
     ]
    },
    {
     "name": "stdout",
     "output_type": "stream",
     "text": [
      "step = 13400: loss = 7565884.0\n"
     ]
    },
    {
     "name": "stdout",
     "output_type": "stream",
     "text": [
      "step = 13600: loss = 12146330.0\n"
     ]
    },
    {
     "name": "stdout",
     "output_type": "stream",
     "text": [
      "step = 13800: loss = 8902687.0\n"
     ]
    },
    {
     "name": "stdout",
     "output_type": "stream",
     "text": [
      "step = 14000: loss = 12659248.0\n"
     ]
    },
    {
     "name": "stdout",
     "output_type": "stream",
     "text": [
      "step = 14000: Average Return = 200.0\n"
     ]
    },
    {
     "name": "stdout",
     "output_type": "stream",
     "text": [
      "step = 14200: loss = 9578409.0\n"
     ]
    },
    {
     "name": "stdout",
     "output_type": "stream",
     "text": [
      "step = 14400: loss = 13338937.0\n"
     ]
    },
    {
     "name": "stdout",
     "output_type": "stream",
     "text": [
      "step = 14600: loss = 12442834.0\n"
     ]
    },
    {
     "name": "stdout",
     "output_type": "stream",
     "text": [
      "step = 14800: loss = 8154804.5\n"
     ]
    },
    {
     "name": "stdout",
     "output_type": "stream",
     "text": [
      "step = 15000: loss = 14968015.0\n"
     ]
    },
    {
     "name": "stdout",
     "output_type": "stream",
     "text": [
      "step = 15000: Average Return = 200.0\n"
     ]
    },
    {
     "name": "stdout",
     "output_type": "stream",
     "text": [
      "step = 15200: loss = 6897091.0\n"
     ]
    },
    {
     "name": "stdout",
     "output_type": "stream",
     "text": [
      "step = 15400: loss = 11543962.0\n"
     ]
    },
    {
     "name": "stdout",
     "output_type": "stream",
     "text": [
      "step = 15600: loss = 8033916.5\n"
     ]
    },
    {
     "name": "stdout",
     "output_type": "stream",
     "text": [
      "step = 15800: loss = 16707812.0\n"
     ]
    },
    {
     "name": "stdout",
     "output_type": "stream",
     "text": [
      "step = 16000: loss = 3942055680.0\n"
     ]
    },
    {
     "name": "stdout",
     "output_type": "stream",
     "text": [
      "step = 16000: Average Return = 200.0\n"
     ]
    },
    {
     "name": "stdout",
     "output_type": "stream",
     "text": [
      "step = 16200: loss = 9505360.0\n"
     ]
    },
    {
     "name": "stdout",
     "output_type": "stream",
     "text": [
      "step = 16400: loss = 5509431.5\n"
     ]
    },
    {
     "name": "stdout",
     "output_type": "stream",
     "text": [
      "step = 16600: loss = 9405398.0\n"
     ]
    },
    {
     "name": "stdout",
     "output_type": "stream",
     "text": [
      "step = 16800: loss = 8809309.0\n"
     ]
    },
    {
     "name": "stdout",
     "output_type": "stream",
     "text": [
      "step = 17000: loss = 10677678.0\n"
     ]
    },
    {
     "name": "stdout",
     "output_type": "stream",
     "text": [
      "step = 17000: Average Return = 200.0\n"
     ]
    },
    {
     "name": "stdout",
     "output_type": "stream",
     "text": [
      "step = 17200: loss = 10017460.0\n"
     ]
    },
    {
     "name": "stdout",
     "output_type": "stream",
     "text": [
      "step = 17400: loss = 8878522.0\n"
     ]
    },
    {
     "name": "stdout",
     "output_type": "stream",
     "text": [
      "step = 17600: loss = 9307826.0\n"
     ]
    },
    {
     "name": "stdout",
     "output_type": "stream",
     "text": [
      "step = 17800: loss = 8975850.0\n"
     ]
    },
    {
     "name": "stdout",
     "output_type": "stream",
     "text": [
      "step = 18000: loss = 11676451.0\n"
     ]
    },
    {
     "name": "stdout",
     "output_type": "stream",
     "text": [
      "step = 18000: Average Return = 200.0\n"
     ]
    },
    {
     "name": "stdout",
     "output_type": "stream",
     "text": [
      "step = 18200: loss = 355074080.0\n"
     ]
    },
    {
     "name": "stdout",
     "output_type": "stream",
     "text": [
      "step = 18400: loss = 22255044.0\n"
     ]
    },
    {
     "name": "stdout",
     "output_type": "stream",
     "text": [
      "step = 18600: loss = 16955560.0\n"
     ]
    },
    {
     "name": "stdout",
     "output_type": "stream",
     "text": [
      "step = 18800: loss = 12466311.0\n"
     ]
    },
    {
     "name": "stdout",
     "output_type": "stream",
     "text": [
      "step = 19000: loss = 17620040.0\n"
     ]
    },
    {
     "name": "stdout",
     "output_type": "stream",
     "text": [
      "step = 19000: Average Return = 200.0\n"
     ]
    },
    {
     "name": "stdout",
     "output_type": "stream",
     "text": [
      "step = 19200: loss = 6484491.5\n"
     ]
    },
    {
     "name": "stdout",
     "output_type": "stream",
     "text": [
      "step = 19400: loss = 14639623.0\n"
     ]
    },
    {
     "name": "stdout",
     "output_type": "stream",
     "text": [
      "step = 19600: loss = 11706258.0\n"
     ]
    },
    {
     "name": "stdout",
     "output_type": "stream",
     "text": [
      "step = 19800: loss = 19145572.0\n"
     ]
    },
    {
     "name": "stdout",
     "output_type": "stream",
     "text": [
      "step = 20000: loss = 13256708.0\n"
     ]
    },
    {
     "name": "stdout",
     "output_type": "stream",
     "text": [
      "step = 20000: Average Return = 200.0\n"
     ]
    }
   ],
   "source": [
    "#@test {\"skip\": true}\n",
    "try:\n",
    "  %%time\n",
    "except:\n",
    "  pass\n",
    "\n",
    "# (Optional) Optimize by wrapping some of the code in a graph using TF function.\n",
    "agent.train = common.function(agent.train)\n",
    "\n",
    "# Reset the train step\n",
    "agent.train_step_counter.assign(0)\n",
    "\n",
    "# Evaluate the agent's policy once before training.\n",
    "avg_return = compute_avg_return(eval_env, agent.policy, num_eval_episodes)\n",
    "returns = [avg_return]\n",
    "\n",
    "for _ in range(num_iterations):\n",
    "\n",
    "  # Collect a few steps using collect_policy and save to the replay buffer.\n",
    "  collect_data(train_env, agent.collect_policy, replay_buffer, collect_steps_per_iteration)\n",
    "\n",
    "  # Sample a batch of data from the buffer and update the agent's network.\n",
    "  experience, unused_info = next(iterator)\n",
    "  train_loss = agent.train(experience).loss\n",
    "\n",
    "  step = agent.train_step_counter.numpy()\n",
    "\n",
    "  if step % log_interval == 0:\n",
    "    print('step = {0}: loss = {1}'.format(step, train_loss))\n",
    "\n",
    "  if step % eval_interval == 0:\n",
    "    avg_return = compute_avg_return(eval_env, agent.policy, num_eval_episodes)\n",
    "    print('step = {0}: Average Return = {1}'.format(step, avg_return))\n",
    "    returns.append(avg_return)"
   ]
  },
  {
   "cell_type": "markdown",
   "metadata": {
    "id": "68jNcA_TiJDq"
   },
   "source": [
    "## Visualization\n"
   ]
  },
  {
   "cell_type": "markdown",
   "metadata": {
    "id": "aO-LWCdbbOIC"
   },
   "source": [
    "### Plots\n",
    "\n",
    "Use `matplotlib.pyplot` to chart how the policy improved during training.\n",
    "\n",
    "One iteration of `Cartpole-v0` consists of 200 time steps. The environment gives a reward of `+1` for each step the pole stays up, so the maximum return for one episode is 200. The charts shows the return increasing towards that maximum each time it is evaluated during training. (It may be a little unstable and not increase monotonically each time.)"
   ]
  },
  {
   "cell_type": "code",
   "execution_count": 33,
   "metadata": {
    "execution": {
     "iopub.execute_input": "2021-06-09T12:12:24.915349Z",
     "iopub.status.busy": "2021-06-09T12:12:24.914806Z",
     "iopub.status.idle": "2021-06-09T12:12:25.019504Z",
     "shell.execute_reply": "2021-06-09T12:12:25.019844Z"
    },
    "id": "NxtL1mbOYCVO"
   },
   "outputs": [
    {
     "data": {
      "text/plain": [
       "(-0.1300004005432136, 250.0)"
      ]
     },
     "execution_count": 1,
     "metadata": {},
     "output_type": "execute_result"
    },
    {
     "data": {
      "image/png": "[encoded data removed]",
      "text/plain": [
       "<Figure size 432x288 with 1 Axes>"
      ]
     },
     "metadata": {
      "needs_background": "light"
     },
     "output_type": "display_data"
    }
   ],
   "source": [
    "#@test {\"skip\": true}\n",
    "\n",
    "iterations = range(0, num_iterations + 1, eval_interval)\n",
    "plt.plot(iterations, returns)\n",
    "plt.ylabel('Average Return')\n",
    "plt.xlabel('Iterations')\n",
    "plt.ylim(top=250)"
   ]
  },
  {
   "cell_type": "markdown",
   "metadata": {
    "id": "M7-XpPP99Cy7"
   },
   "source": [
    "### Videos"
   ]
  },
  {
   "cell_type": "markdown",
   "metadata": {
    "id": "9pGfGxSH32gn"
   },
   "source": [
    "Charts are nice. But more exciting is seeing an agent actually performing a task in an environment. \n",
    "\n",
    "First, create a function to embed videos in the notebook."
   ]
  },
  {
   "cell_type": "code",
   "execution_count": 34,
   "metadata": {
    "execution": {
     "iopub.execute_input": "2021-06-09T12:12:25.024404Z",
     "iopub.status.busy": "2021-06-09T12:12:25.023843Z",
     "iopub.status.idle": "2021-06-09T12:12:25.025897Z",
     "shell.execute_reply": "2021-06-09T12:12:25.025498Z"
    },
    "id": "ULaGr8pvOKbl"
   },
   "outputs": [],
   "source": [
    "def embed_mp4(filename):\n",
    "  \"\"\"Embeds an mp4 file in the notebook.\"\"\"\n",
    "  video = open(filename,'rb').read()\n",
    "  b64 = base64.b64encode(video)\n",
    "  tag = '''\n",
    "  <video width=\"640\" height=\"480\" controls>\n",
    "    <source src=\"data:video/mp4;base64,{0}\" type=\"video/mp4\">\n",
    "  Your browser does not support the video tag.\n",
    "  </video>'''.format(b64.decode())\n",
    "\n",
    "  return IPython.display.HTML(tag)"
   ]
  },
  {
   "cell_type": "markdown",
   "metadata": {
    "id": "9c_PH-pX4Pr5"
   },
   "source": [
    "Now iterate through a few episodes of the Cartpole game with the agent. The underlying Python environment (the one \"inside\" the TensorFlow environment wrapper) provides a `render()` method, which outputs an image of the environment state. These can be collected into a video."
   ]
  },
  {
   "cell_type": "code",
   "execution_count": 35,
   "metadata": {
    "execution": {
     "iopub.execute_input": "2021-06-09T12:12:25.031028Z",
     "iopub.status.busy": "2021-06-09T12:12:25.030437Z",
     "iopub.status.idle": "2021-06-09T12:12:33.395239Z",
     "shell.execute_reply": "2021-06-09T12:12:33.395676Z"
    },
    "id": "owOVWB158NlF"
   },
   "outputs": [
    {
     "name": "stderr",
     "output_type": "stream",
     "text": [
      "WARNING:root:IMAGEIO FFMPEG_WRITER WARNING: input image is not divisible by macro_block_size=16, resizing from (400, 600) to (400, 608) to ensure video compatibility with most codecs and players. To prevent resizing, make your input image divisible by the macro_block_size or set the macro_block_size to None (risking incompatibility). You may also see a FFMPEG warning concerning speedloss due to data not being aligned.\n"
     ]
    },
    {
     "data": {
      "text/html": [
       "\n",
       "  <video width=\"640\" height=\"480\" controls>\n",
       "    <source src=\"data:video/mp4;base64,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\" type=\"video/mp4\">\n",
       "  Your browser does not support the video tag.\n",
       "  </video>"
      ],
      "text/plain": [
       "<IPython.core.display.HTML object>"
      ]
     },
     "execution_count": 1,
     "metadata": {},
     "output_type": "execute_result"
    }
   ],
   "source": [
    "def create_policy_eval_video(policy, filename, num_episodes=5, fps=30):\n",
    "  filename = filename + \".mp4\"\n",
    "  with imageio.get_writer(filename, fps=fps) as video:\n",
    "    for _ in range(num_episodes):\n",
    "      time_step = eval_env.reset()\n",
    "      video.append_data(eval_py_env.render())\n",
    "      while not time_step.is_last():\n",
    "        action_step = policy.action(time_step)\n",
    "        time_step = eval_env.step(action_step.action)\n",
    "        video.append_data(eval_py_env.render())\n",
    "  return embed_mp4(filename)\n",
    "\n",
    "\n",
    "\n",
    "\n",
    "create_policy_eval_video(agent.policy, \"trained-agent\")"
   ]
  },
  {
   "cell_type": "markdown",
   "metadata": {
    "id": "povaAOcZygLw"
   },
   "source": [
    "For fun, compare the trained agent (above) to an agent moving randomly. (It does not do as well.)"
   ]
  },
  {
   "cell_type": "code",
   "execution_count": 36,
   "metadata": {
    "execution": {
     "iopub.execute_input": "2021-06-09T12:12:33.400440Z",
     "iopub.status.busy": "2021-06-09T12:12:33.399795Z",
     "iopub.status.idle": "2021-06-09T12:12:34.269219Z",
     "shell.execute_reply": "2021-06-09T12:12:34.269579Z"
    },
    "id": "pJZIdC37yNH4"
   },
   "outputs": [
    {
     "name": "stderr",
     "output_type": "stream",
     "text": [
      "WARNING:root:IMAGEIO FFMPEG_WRITER WARNING: input image is not divisible by macro_block_size=16, resizing from (400, 600) to (400, 608) to ensure video compatibility with most codecs and players. To prevent resizing, make your input image divisible by the macro_block_size or set the macro_block_size to None (risking incompatibility). You may also see a FFMPEG warning concerning speedloss due to data not being aligned.\n"
     ]
    },
    {
     "data": {
      "text/html": [
       "\n",
       "  <video width=\"640\" height=\"480\" controls>\n",
       "    <source src=\"data:video/mp4;base64,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\" type=\"video/mp4\">\n",
       "  Your browser does not support the video tag.\n",
       "  </video>"
      ],
      "text/plain": [
       "<IPython.core.display.HTML object>"
      ]
     },
     "execution_count": 1,
     "metadata": {},
     "output_type": "execute_result"
    }
   ],
   "source": [
    "create_policy_eval_video(random_policy, \"random-agent\")"
   ]
  }
 ],
 "metadata": {
  "colab": {
   "collapsed_sections": [],
   "name": "DQN Tutorial.ipynb",
   "private_outputs": true,
   "provenance": [],
   "toc_visible": true
  },
  "kernelspec": {
   "display_name": "Python 3",
   "language": "python",
   "name": "python3"
  },
  "language_info": {
   "codemirror_mode": {
    "name": "ipython",
    "version": 3
   },
   "file_extension": ".py",
   "mimetype": "text/x-python",
   "name": "python",
   "nbconvert_exporter": "python",
   "pygments_lexer": "ipython3",
   "version": "3.7.5"
  },
  "pycharm": {
   "stem_cell": {
    "cell_type": "raw",
    "metadata": {
     "collapsed": false
    },
    "source": []
   }
  }
 },
 "nbformat": 4,
 "nbformat_minor": 0
}
